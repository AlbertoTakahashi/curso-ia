!nvidia-smi

import os
HOME = os.getcwd()

# Pip install method (recommended)
!pip install ultralytics==8.2.103 -q

from IPython import display
display.clear_output()

import ultralytics
ultralytics.checks()

from ultralytics import YOLO

from IPython.display import display, Image

from google.colab import drive
drive.mount('/content/drive/', force_remount=True)


os.chdir('../content/drive/My Drive/Colab Notebooks/yolov8')

!unzip -q './images/images.zip' -d ./images
!unzip -q './images/labels.zip' -d ./images

#modelo = YOLO('yolov8s.pt')
modelo = YOLO('yolov8m.pt')

continua = False
if continua:
  modelo = YOLO('runs/detect/train9/weights/last.pt')
  modelo.train(resume=True)
else:
  modelo.train(data='./dataset.yaml', epochs=100, freeze=22, patience=100)
  #modelo.train(data='./dataset.yaml', epochs=100, freeze=[0-9], patience=100)
  #modelo.train(data='./dataset.yaml', epochs=200, freeze=22, patience=100)

arquivo_imagem = ['imagem-teste.jpg',"teste leao.jpg","teste elefantes.jpg"]
resultado = modelo.predict(source= arquivo_imagem, conf= 0.50, save= True)

import cv2
import matplotlib.pyplot as plt
def mostrar_imagem(img):
  imagem = cv2.imread(img)
  fig = plt.gcf()
  fig.set_size_inches(8, 10)
  plt.axis("off")
  plt.imshow(cv2.cvtColor(imagem, cv2.COLOR_BGR2RGB))
  plt.show()

mostrar_imagem('runs/detect/train55/teste leao.jpg')



